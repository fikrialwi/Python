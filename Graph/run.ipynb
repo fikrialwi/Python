{
 "cells": [
  {
   "cell_type": "code",
   "execution_count": 28,
   "metadata": {},
   "outputs": [],
   "source": [
    "from Graph import Graph\n",
    "from TopologiIndex import TopologiIndex"
   ]
  },
  {
   "cell_type": "code",
   "execution_count": 29,
   "metadata": {},
   "outputs": [],
   "source": [
    "def isPrime(n):\n",
    "    if n < 2:\n",
    "        return False\n",
    "    for i in range(2,n):\n",
    "        if n%i == 0:\n",
    "            return False\n",
    "    return True\n",
    "def prime(n,p=1):\n",
    "    return [x*p for x in range(n) if isPrime(x)]"
   ]
  },
  {
   "cell_type": "code",
   "execution_count": null,
   "metadata": {},
   "outputs": [],
   "source": [
    "for i in prime(13,2):\n",
    "    t = TopologiIndex('Z_'+str(i),'annihilator')\n",
    "    print('p = '+str(int(i)),'orde = '+str(t.orde()),'size = '+str(t.size()))"
   ]
  },
  {
   "cell_type": "markdown",
   "metadata": {},
   "source": [
    "Pola yang dibentuk dari data Z_pq dengan p = prima q = 2:\n",
    "orde : p\n",
    "size : p-1"
   ]
  },
  {
   "cell_type": "code",
   "execution_count": 31,
   "metadata": {},
   "outputs": [
    {
     "name": "stdout",
     "output_type": "stream",
     "text": [
      "p = 6 orde = 3 size = 2\n",
      "p = 9 orde = 2 size = 1\n",
      "p = 15 orde = 6 size = 8\n",
      "p = 21 orde = 8 size = 12\n",
      "p = 33 orde = 12 size = 20\n"
     ]
    }
   ],
   "source": [
    "for i in prime(13,3):\n",
    "    t = TopologiIndex('Z_'+str(i),'annihilator')\n",
    "    print('p = '+str(int(i)),'orde = '+str(t.orde()),'size = '+str(t.size()))"
   ]
  },
  {
   "cell_type": "markdown",
   "metadata": {},
   "source": [
    "Pola yang dibentuk dari data Z_pq dengan p = prima q = 3:\n",
    "orde : p+1\n",
    "size : 2(p-1)"
   ]
  },
  {
   "cell_type": "code",
   "execution_count": 33,
   "metadata": {},
   "outputs": [
    {
     "name": "stdout",
     "output_type": "stream",
     "text": [
      "p = 10 orde = 5 size = 4\n",
      "p = 15 orde = 6 size = 8\n",
      "p = 25 orde = 4 size = 6\n",
      "p = 35 orde = 10 size = 24\n",
      "p = 55 orde = 14 size = 40\n"
     ]
    }
   ],
   "source": [
    "for i in prime(13,5):\n",
    "    t = TopologiIndex('Z_'+str(i),'annihilator')\n",
    "    print('p = '+str(int(i)),'orde = '+str(t.orde()),'size = '+str(t.size()))"
   ]
  },
  {
   "cell_type": "markdown",
   "metadata": {},
   "source": [
    "Pola yang dibentuk dari data Z_pq dengan p = prima q = 5:\n",
    "orde : p+3\n",
    "size : 4(p-1)"
   ]
  },
  {
   "cell_type": "markdown",
   "metadata": {},
   "source": [
    "<b> Hipotesis : </b> pola umum yang dipakai adalah <br> orde : p+q-2 <br> size : (p-1)(q-1)"
   ]
  },
  {
   "cell_type": "code",
   "execution_count": 2,
   "metadata": {},
   "outputs": [],
   "source": [
    "from Run import Graf"
   ]
  },
  {
   "cell_type": "code",
   "execution_count": 3,
   "metadata": {},
   "outputs": [
    {
     "name": "stdout",
     "output_type": "stream",
     "text": [
      "annihilator\n",
      "ok\n"
     ]
    },
    {
     "ename": "UnboundLocalError",
     "evalue": "local variable 'g' referenced before assignment",
     "output_type": "error",
     "traceback": [
      "\u001b[1;31m---------------------------------------------------------------------------\u001b[0m",
      "\u001b[1;31mUnboundLocalError\u001b[0m                         Traceback (most recent call last)",
      "\u001b[1;32md:\\Coding\\Python\\Graph\\run.ipynb Cell 11'\u001b[0m in \u001b[0;36m<cell line: 2>\u001b[1;34m()\u001b[0m\n\u001b[0;32m      <a href='vscode-notebook-cell:/d%3A/Coding/Python/Graph/run.ipynb#ch0000010?line=0'>1</a>\u001b[0m g \u001b[39m=\u001b[39m Graf()\n\u001b[1;32m----> <a href='vscode-notebook-cell:/d%3A/Coding/Python/Graph/run.ipynb#ch0000010?line=1'>2</a>\u001b[0m g\u001b[39m.\u001b[39;49mrun(graf\u001b[39m=\u001b[39;49m [\u001b[39m\"\u001b[39;49m\u001b[39mZ_22\u001b[39;49m\u001b[39m\"\u001b[39;49m,\u001b[39m\"\u001b[39;49m\u001b[39mannihilator\u001b[39;49m\u001b[39m\"\u001b[39;49m], topologi\u001b[39m=\u001b[39;49m\u001b[39m\"\u001b[39;49m\u001b[39mnarumi katayama\u001b[39;49m\u001b[39m\"\u001b[39;49m)\n",
      "File \u001b[1;32md:\\Coding\\Python\\Graph\\Run.py:36\u001b[0m, in \u001b[0;36mGraf.run\u001b[1;34m(self, **option)\u001b[0m\n\u001b[0;32m     <a href='file:///d%3A/Coding/Python/Graph/Run.py?line=33'>34</a>\u001b[0m \u001b[39mif\u001b[39;00m i \u001b[39m==\u001b[39m \u001b[39m\"\u001b[39m\u001b[39mtopologi\u001b[39m\u001b[39m\"\u001b[39m:\n\u001b[0;32m     <a href='file:///d%3A/Coding/Python/Graph/Run.py?line=34'>35</a>\u001b[0m     \u001b[39mif\u001b[39;00m \u001b[39mself\u001b[39m\u001b[39m.\u001b[39mcekTopologi(option[i]):\n\u001b[1;32m---> <a href='file:///d%3A/Coding/Python/Graph/Run.py?line=35'>36</a>\u001b[0m         t \u001b[39m=\u001b[39m TopologiIndex(g)\n\u001b[0;32m     <a href='file:///d%3A/Coding/Python/Graph/Run.py?line=36'>37</a>\u001b[0m         \u001b[39mif\u001b[39;00m option[i] \u001b[39m==\u001b[39m \u001b[39m\"\u001b[39m\u001b[39mfirst zagreb multiple\u001b[39m\u001b[39m\"\u001b[39m:\n\u001b[0;32m     <a href='file:///d%3A/Coding/Python/Graph/Run.py?line=37'>38</a>\u001b[0m             tli \u001b[39m=\u001b[39m [t\u001b[39m.\u001b[39mfirstMultipleZagreb(\n\u001b[0;32m     <a href='file:///d%3A/Coding/Python/Graph/Run.py?line=38'>39</a>\u001b[0m                 \u001b[39m1\u001b[39m), t\u001b[39m.\u001b[39mfirstMultipleZagreb(\u001b[39m2\u001b[39m)]\n",
      "\u001b[1;31mUnboundLocalError\u001b[0m: local variable 'g' referenced before assignment"
     ]
    }
   ],
   "source": [
    "g = Graf()\n",
    "g.run(graf= [\"Z_22\",\"annihilator\"], topologi=\"narumi katayama\")"
   ]
  }
 ],
 "metadata": {
  "interpreter": {
   "hash": "2634fc1dc0b50cb40c42cad8249f8dbb3965aee095cd4f673cb1018f8dc5d079"
  },
  "kernelspec": {
   "display_name": "Python 3.9.10 ('Python': venv)",
   "language": "python",
   "name": "python3"
  },
  "language_info": {
   "codemirror_mode": {
    "name": "ipython",
    "version": 3
   },
   "file_extension": ".py",
   "mimetype": "text/x-python",
   "name": "python",
   "nbconvert_exporter": "python",
   "pygments_lexer": "ipython3",
   "version": "3.10.1"
  },
  "orig_nbformat": 4
 },
 "nbformat": 4,
 "nbformat_minor": 2
}
