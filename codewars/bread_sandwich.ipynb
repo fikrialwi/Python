{
 "cells": [
  {
   "cell_type": "code",
   "execution_count": 74,
   "metadata": {},
   "outputs": [],
   "source": [
    "import math\n",
    "def slices_to_name(n):\n",
    "    if(n < 2 or not isinstance(n,int)):\n",
    "        return None\n",
    "    else:\n",
    "        str =[]\n",
    "        if n%2==1:\n",
    "            str.append(\"bread\")\n",
    "        for i in range(math.floor((n)/2)):\n",
    "            str.append(\"sandwich\")\n",
    "        return \" \".join(str)\n",
    "\n",
    "\n",
    "def name_to_slices(name):\n",
    "    if name == \"bread\" or not isinstance(name, str) or name == \"\":\n",
    "        return None\n",
    "    arr = name.split(\" \")\n",
    "    arr2 = [i for i,x in enumerate(arr) if x== \"bread\"]\n",
    "    if len(arr) == 0 or len(arr2) > 1 or arr2[0] != 1:\n",
    "        return None\n",
    "    num = 0;\n",
    "    for txt in arr:\n",
    "        if txt == \"bread\":\n",
    "            num += 1\n",
    "        elif txt == \"sandwich\":\n",
    "            num +=2 \n",
    "    return num"
   ]
  },
  {
   "cell_type": "code",
   "execution_count": 75,
   "metadata": {},
   "outputs": [],
   "source": [
    "name_to_slices(\"sandwich sandwich bread\")"
   ]
  },
  {
   "cell_type": "code",
   "execution_count": 76,
   "metadata": {},
   "outputs": [
    {
     "data": {
      "text/plain": [
       "'sandwich sandwich sandwich sandwich sandwich'"
      ]
     },
     "execution_count": 76,
     "metadata": {},
     "output_type": "execute_result"
    }
   ],
   "source": [
    "slices_to_name(10)"
   ]
  },
  {
   "cell_type": "code",
   "execution_count": 2,
   "metadata": {},
   "outputs": [
    {
     "data": {
      "text/plain": [
       "True"
      ]
     },
     "execution_count": 2,
     "metadata": {},
     "output_type": "execute_result"
    }
   ],
   "source": [
    "[1,0] == [1,0]"
   ]
  }
 ],
 "metadata": {
  "interpreter": {
   "hash": "5713120658bd4218162b74d492e37367ba65a05602f7879e8a5aea7478a261fd"
  },
  "kernelspec": {
   "display_name": "Python 3.10.1 64-bit",
   "language": "python",
   "name": "python3"
  },
  "language_info": {
   "codemirror_mode": {
    "name": "ipython",
    "version": 3
   },
   "file_extension": ".py",
   "mimetype": "text/x-python",
   "name": "python",
   "nbconvert_exporter": "python",
   "pygments_lexer": "ipython3",
   "version": "3.10.1"
  },
  "orig_nbformat": 4
 },
 "nbformat": 4,
 "nbformat_minor": 2
}
