{
 "cells": [
  {
   "cell_type": "code",
   "execution_count": 38,
   "metadata": {},
   "outputs": [],
   "source": [
    "def pig_it(text):  \n",
    "    return \" \".join(map(lambda x: \"\".join(list(x)[1:]+[list(x).pop(0)])+\"ay\", text.split(' ')))\n"
   ]
  },
  {
   "cell_type": "code",
   "execution_count": 37,
   "metadata": {},
   "outputs": [
    {
     "name": "stdout",
     "output_type": "stream",
     "text": [
      "igPay atinlay siay oolcay igPay atinlay siay oolcay\n",
      "hisTay siay ymay tringsay hisTay siay ymay tringsay\n"
     ]
    }
   ],
   "source": [
    "print(pig_it('Pig latin is cool'),'igPay atinlay siay oolcay')\n",
    "print(pig_it('This is my string'),'hisTay siay ymay tringsay')"
   ]
  }
 ],
 "metadata": {
  "interpreter": {
   "hash": "5713120658bd4218162b74d492e37367ba65a05602f7879e8a5aea7478a261fd"
  },
  "kernelspec": {
   "display_name": "Python 3.10.1 64-bit",
   "language": "python",
   "name": "python3"
  },
  "language_info": {
   "codemirror_mode": {
    "name": "ipython",
    "version": 3
   },
   "file_extension": ".py",
   "mimetype": "text/x-python",
   "name": "python",
   "nbconvert_exporter": "python",
   "pygments_lexer": "ipython3",
   "version": "3.10.1"
  },
  "orig_nbformat": 4
 },
 "nbformat": 4,
 "nbformat_minor": 2
}
