{
 "cells": [
  {
   "cell_type": "code",
   "execution_count": 1,
   "metadata": {},
   "outputs": [],
   "source": [
    "def two_sum(numbers, target):\n",
    "    for i,n in enumerate(numbers):\n",
    "        for j,m in enumerate(numbers):\n",
    "            if n+m == target and i != j:\n",
    "                return [i,j]               "
   ]
  },
  {
   "cell_type": "code",
   "execution_count": 2,
   "metadata": {},
   "outputs": [
    {
     "name": "stdout",
     "output_type": "stream",
     "text": [
      "[0, 2] [0, 2]\n",
      "[1, 2] [1, 2]\n",
      "[0, 1] [0, 1]\n"
     ]
    }
   ],
   "source": [
    "print(two_sum([1,2,3], 4), [0,2])\n",
    "print(two_sum([1234,5678,9012], 14690),[1,2])\n",
    "print(two_sum([2,2,3], 4), [0,1])"
   ]
  }
 ],
 "metadata": {
  "interpreter": {
   "hash": "2634fc1dc0b50cb40c42cad8249f8dbb3965aee095cd4f673cb1018f8dc5d079"
  },
  "kernelspec": {
   "display_name": "Python 3.9.10 ('Python': venv)",
   "language": "python",
   "name": "python3"
  },
  "language_info": {
   "codemirror_mode": {
    "name": "ipython",
    "version": 3
   },
   "file_extension": ".py",
   "mimetype": "text/x-python",
   "name": "python",
   "nbconvert_exporter": "python",
   "pygments_lexer": "ipython3",
   "version": "3.10.1"
  },
  "orig_nbformat": 4
 },
 "nbformat": 4,
 "nbformat_minor": 2
}
