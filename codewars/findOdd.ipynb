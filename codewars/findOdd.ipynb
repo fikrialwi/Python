{
 "cells": [
  {
   "cell_type": "code",
   "execution_count": 36,
   "metadata": {},
   "outputs": [],
   "source": [
    "def find_it(seq):\n",
    "    res = dict()\n",
    "    for n in seq:\n",
    "        if n not in res:\n",
    "            res.update({n:0})\n",
    "        if n in res:\n",
    "            res[n] += 1\n",
    "    for key in res:\n",
    "        if res.get(key)%2 == 1:\n",
    "            return key        "
   ]
  },
  {
   "cell_type": "code",
   "execution_count": 37,
   "metadata": {},
   "outputs": [
    {
     "name": "stdout",
     "output_type": "stream",
     "text": [
      "5 5\n",
      "-1 -1\n",
      "5 5\n",
      "10 10\n",
      "10 10\n",
      "10 10\n",
      "1 1\n"
     ]
    }
   ],
   "source": [
    "print(find_it([20,1,-1,2,-2,3,3,5,5,1,2,4,20,4,-1,-2,5]), 5)\n",
    "print(find_it([1,1,2,-2,5,2,4,4,-1,-2,5]), -1)\n",
    "print(find_it([20,1,1,2,2,3,3,5,5,4,20,4,5]), 5)\n",
    "print(find_it([10]), 10)\n",
    "print(find_it([10, 10, 10]), 10)\n",
    "print(find_it([1,1,1,1,1,1,10,1,1,1,1]), 10)\n",
    "print(find_it([5,4,3,2,1,5,4,3,2,10,10]), 1)"
   ]
  }
 ],
 "metadata": {
  "interpreter": {
   "hash": "5713120658bd4218162b74d492e37367ba65a05602f7879e8a5aea7478a261fd"
  },
  "kernelspec": {
   "display_name": "Python 3.10.1 64-bit",
   "language": "python",
   "name": "python3"
  },
  "language_info": {
   "codemirror_mode": {
    "name": "ipython",
    "version": 3
   },
   "file_extension": ".py",
   "mimetype": "text/x-python",
   "name": "python",
   "nbconvert_exporter": "python",
   "pygments_lexer": "ipython3",
   "version": "3.10.1"
  },
  "orig_nbformat": 4
 },
 "nbformat": 4,
 "nbformat_minor": 2
}
