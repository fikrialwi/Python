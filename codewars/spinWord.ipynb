{
 "cells": [
  {
   "cell_type": "code",
   "execution_count": 47,
   "metadata": {},
   "outputs": [
    {
     "data": {
      "text/plain": [
       "'emocleW to'"
      ]
     },
     "execution_count": 47,
     "metadata": {},
     "output_type": "execute_result"
    }
   ],
   "source": [
    "def spin_words(sentence):\n",
    "    arr = sentence.split(' ')\n",
    "    for i,txt in enumerate(arr):\n",
    "        if len(txt) > 4:\n",
    "            arr[i] = list(txt)\n",
    "            arr[i].reverse()\n",
    "            arr[i] = \"\".join(arr[i])\n",
    "    return \" \".join(arr)"
   ]
  },
  {
   "cell_type": "code",
   "execution_count": 48,
   "metadata": {},
   "outputs": [
    {
     "name": "stdout",
     "output_type": "stream",
     "text": [
      "emocleW emocleW\n",
      "to to\n",
      "sraWedoC sraWedoC\n",
      "Hey wollef sroirraw Hey wollef sroirraw\n",
      "This ecnetnes is a ecnetnes This ecnetnes is a ecnetnes\n"
     ]
    }
   ],
   "source": [
    "print(spin_words(\"Welcome\"), \"emocleW\")\n",
    "print(spin_words(\"to\"), \"to\")\n",
    "print(spin_words(\"CodeWars\"), \"sraWedoC\")\n",
    "print(spin_words(\"Hey fellow warriors\"), \"Hey wollef sroirraw\")\n",
    "print(spin_words(\"This sentence is a sentence\"), \"This ecnetnes is a ecnetnes\")"
   ]
  }
 ],
 "metadata": {
  "interpreter": {
   "hash": "5713120658bd4218162b74d492e37367ba65a05602f7879e8a5aea7478a261fd"
  },
  "kernelspec": {
   "display_name": "Python 3.10.1 64-bit",
   "language": "python",
   "name": "python3"
  },
  "language_info": {
   "codemirror_mode": {
    "name": "ipython",
    "version": 3
   },
   "file_extension": ".py",
   "mimetype": "text/x-python",
   "name": "python",
   "nbconvert_exporter": "python",
   "pygments_lexer": "ipython3",
   "version": "3.10.1"
  },
  "orig_nbformat": 4
 },
 "nbformat": 4,
 "nbformat_minor": 2
}
